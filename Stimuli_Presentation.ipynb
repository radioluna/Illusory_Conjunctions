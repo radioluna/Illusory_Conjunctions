{
 "cells": [
  {
   "cell_type": "code",
   "execution_count": 3,
   "metadata": {
    "hideCode": false,
    "hidePrompt": false
   },
   "outputs": [],
   "source": [
    "import random\n",
    "import parselmouth\n",
    "\n",
    "from random import shuffle\n",
    "import time\n",
    "import librosa\n",
    "import IPython.display as ipd\n",
    "from IPython.display import Image, display, clear_output\n",
    "from ipywidgets import Button, HBox, VBox,Layout\n",
    "from ipywidgets import widgets\n",
    "from ipywidgets import interact, interactive, fixed, interact_manual\n",
    "#from gtts import gTTS\n",
    "import os\n",
    "import numpy\n",
    "import ctcsound\n",
    "import platform\n",
    "import os\n",
    "from traitlets.config.manager import BaseJSONConfigManager\n",
    "\n",
    "from ipywidgets import interact, interactive, fixed, interact_manual\n",
    "import ipywidgets as widgets\n",
    "#from gtts import gTTS\n",
    "import matplotlib\n",
    "import numpy \n",
    "\n",
    "\n",
    "\n",
    "\n",
    "count=0\n",
    "accuracy =0\n",
    "files = ['ly_test_-60.wav','ly_test_-48.wav','ly_test_-36.wav','ly_test_-24.wav','ly_test_-12.wav',\n",
    "         'ly_test_0.wav','ly_test_+12.wav','ly_test_+24.wav','ly_test_+36.wav','ly_test_+48.wav',\n",
    "         'ly_test_+60.wav']\n"
   ]
  },
  {
   "cell_type": "code",
   "execution_count": 9,
   "metadata": {
    "hideCode": false,
    "hidePrompt": false
   },
   "outputs": [],
   "source": [
    "for temp in files: \n",
    "    \n",
    "    os.system(\"afplay \"+temp)"
   ]
  },
  {
   "cell_type": "code",
   "execution_count": 10,
   "metadata": {
    "hideCode": false,
    "hidePrompt": false
   },
   "outputs": [],
   "source": [
    "files2 = ['int_-60.wav','int_-48.wav','int_-36.wav','int_-24.wav','int_-12.wav',\n",
    "         'int_0.wav','int_+12.wav','int_+24.wav','int_+36.wav','int_+48.wav',\n",
    "         'int_+60.wav']"
   ]
  },
  {
   "cell_type": "code",
   "execution_count": 12,
   "metadata": {
    "hideCode": false,
    "hidePrompt": false
   },
   "outputs": [],
   "source": [
    "for temp in files2: \n",
    "    \n",
    "    os.system(\"afplay \"+temp)"
   ]
  },
  {
   "cell_type": "code",
   "execution_count": null,
   "metadata": {
    "hideCode": false,
    "hidePrompt": false
   },
   "outputs": [],
   "source": []
  }
 ],
 "metadata": {
  "hide_code_all_hidden": false,
  "kernelspec": {
   "display_name": "Python 3",
   "language": "python",
   "name": "python3"
  },
  "language_info": {
   "codemirror_mode": {
    "name": "ipython",
    "version": 3
   },
   "file_extension": ".py",
   "mimetype": "text/x-python",
   "name": "python",
   "nbconvert_exporter": "python",
   "pygments_lexer": "ipython3",
   "version": "3.6.6"
  }
 },
 "nbformat": 4,
 "nbformat_minor": 2
}
