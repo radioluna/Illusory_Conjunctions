{
 "cells": [
  {
   "cell_type": "code",
   "execution_count": 19,
   "metadata": {
    "hideCode": false,
    "hidePrompt": false,
    "hide_input": false
   },
   "outputs": [
    {
     "name": "stdout",
     "output_type": "stream",
     "text": [
      "You will undergo 11 trials.\n",
      "Trial 1\n"
     ]
    },
    {
     "data": {
      "application/vnd.jupyter.widget-view+json": {
       "model_id": "eb91816e782048118790d28e6425bdf1",
       "version_major": 2,
       "version_minor": 0
      },
      "text/plain": [
       "HBox(children=(VBox(children=(Button(description='Play Sound', style=ButtonStyle()),)), VBox(children=(Button(…"
      ]
     },
     "metadata": {},
     "output_type": "display_data"
    }
   ],
   "source": [
    "import random\n",
    "import parselmouth\n",
    "\n",
    "from random import shuffle\n",
    "import time\n",
    "import librosa\n",
    "import IPython.display as ipd\n",
    "from IPython.display import Image, display, clear_output\n",
    "from ipywidgets import Button, HBox, VBox,Layout\n",
    "from ipywidgets import widgets\n",
    "from ipywidgets import interact, interactive, fixed, interact_manual\n",
    "#from gtts import gTTS\n",
    "import os\n",
    "import numpy\n",
    "import ctcsound\n",
    "import platform\n",
    "import os\n",
    "from traitlets.config.manager import BaseJSONConfigManager\n",
    "\n",
    "from ipywidgets import interact, interactive, fixed, interact_manual\n",
    "import ipywidgets as widgets\n",
    "#from gtts import gTTS\n",
    "import matplotlib\n",
    "import numpy \n",
    "\n",
    "\n",
    "\n",
    "\n",
    "print(\"You will undergo 11 trials.\")\n",
    "count=0\n",
    "accuracy =0\n",
    "files = ['ly_test_-60.wav','ly_test_-48.wav','ly_test_-36.wav','ly_test_-24.wav','ly_test_-12.wav',\n",
    "         'ly_test_0.wav','ly_test_+12.wav','ly_test_+24.wav','ly_test_+36.wav','ly_test_+48.wav',\n",
    "         'ly_test_+60.wav']\n",
    "\n",
    "index = 0\n",
    "choices = [0,1,2,3,4,5,6,7,8,9,10]\n",
    "shuffle(choices)\n",
    "\n",
    "fileplay = files[choices[count]]\n",
    "sound = parselmouth.Sound(fileplay)\n",
    "\n",
    "\n",
    "def redraw(): \n",
    "    \n",
    "    global index\n",
    "    global accuracy\n",
    "    global choices\n",
    "    global files\n",
    "    global sound\n",
    "    \n",
    "    fileplay = files[choices[count]]\n",
    "    sound = parselmouth.Sound(str(fileplay))\n",
    "    \n",
    "    \n",
    "    \n",
    "    sonibutton = widgets.Button(description = 'Sounds like Laurel')\n",
    "    answerbutton = widgets.Button(description='Sounds Like Yanni')\n",
    "    playbutton = widgets.Button(description='Play Sound')\n",
    "    \n",
    "    \n",
    "\n",
    "    #display(Image(correct))\n",
    "    #display(correct)\n",
    "    time.sleep(0.5)\n",
    "    \n",
    "    \n",
    "    #display(button)\n",
    "    #button.on_click(on_button_clicked)\n",
    "    \n",
    "    #buttons = [widgets.Button(description = choice) for choice in choices]\n",
    "    #sonibutton = [widgets.Button(description = 'Listen to Sonification')]\n",
    "  \n",
    "    #answerbutton = [widgets.Button(description='Submit Input')]\n",
    "    \n",
    "    #container = widgets.HBox(children=buttons)\n",
    "\n",
    "    \n",
    "    play_box = VBox([playbutton])\n",
    "    left_box = VBox([(sonibutton)])\n",
    "    right_box = VBox([(answerbutton)])\n",
    "    \n",
    "    container = widgets.HBox([play_box,left_box,right_box])\n",
    "    print(\"Trial \" + str(count+1))\n",
    "    display(container)\n",
    "    \n",
    "\n",
    "\n",
    "    def ans_button_clicked(b):\n",
    "            global count\n",
    "            \n",
    "            \n",
    "            count = count + 1\n",
    "            \n",
    "            \n",
    "  \n",
    "\n",
    "  \n",
    "            \n",
    "            text=list()\n",
    "            text.append(db_ratio)\n",
    "            text.append(\"Y\")\n",
    "            \n",
    "            \n",
    "            with open('responses.csv','a') as file:\n",
    "                file.write('\\n')\n",
    "                for line in text:\n",
    "                    file.write(str(line))\n",
    "                    file.write(',')\n",
    "            time.sleep(2)\n",
    "            container.close()\n",
    "            clear_output()\n",
    "            if count <11:\n",
    "                redraw()\n",
    "            if count == 11:\n",
    "                msg = widgets.Button(description = 'Thank you for finishing this module',layout=Layout(width='50%', height='80px'))\n",
    "                display(msg)\n",
    "                file.close()\n",
    "            \n",
    "        \n",
    "    def son_button_clicked(b):\n",
    "            \n",
    "            global count\n",
    "            global db_ratio\n",
    "            \n",
    "            count = count + 1\n",
    "            text=list()\n",
    "            text.append(db_ratio)\n",
    "            text.append(\"L\")\n",
    "            \n",
    "            \n",
    "            with open('responses.csv','a') as file:\n",
    "                file.write('\\n')\n",
    "                for line in text:\n",
    "                    file.write(str(line))\n",
    "                    file.write(',')\n",
    "            time.sleep(2)\n",
    "            container.close()\n",
    "            clear_output()\n",
    "            if count <11:\n",
    "                redraw()\n",
    "            if count == 11:\n",
    "                msg = widgets.Button(description = 'Thank you for finishing this module',layout=Layout(width='50%', height='80px'))\n",
    "                display(msg)\n",
    "                file.close()\n",
    "            \n",
    "            \n",
    "    def play_button_clicked(b):\n",
    "        ipd.Audio(sound, rate=44000)\n",
    "        \n",
    "        \n",
    "    answerbutton.on_click(ans_button_clicked)\n",
    "    sonibutton.on_click(son_button_clicked)\n",
    "    playbutton.on_click(play_button_clicked)\n",
    "\n",
    "\n",
    " \n",
    "   \n",
    "    \n",
    "\n",
    "redraw()\n",
    "\n",
    "\n"
   ]
  },
  {
   "cell_type": "code",
   "execution_count": 11,
   "metadata": {
    "hideCode": false,
    "hidePrompt": false,
    "hide_input": true
   },
   "outputs": [
    {
     "ename": "NameError",
     "evalue": "name 'sound' is not defined",
     "output_type": "error",
     "traceback": [
      "\u001b[0;31m---------------------------------------------------------------------------\u001b[0m",
      "\u001b[0;31mNameError\u001b[0m                                 Traceback (most recent call last)",
      "\u001b[0;32m<ipython-input-11-408520609b7c>\u001b[0m in \u001b[0;36m<module>\u001b[0;34m()\u001b[0m\n\u001b[0;32m----> 1\u001b[0;31m \u001b[0mipd\u001b[0m\u001b[0;34m.\u001b[0m\u001b[0mAudio\u001b[0m\u001b[0;34m(\u001b[0m\u001b[0msound\u001b[0m\u001b[0;34m,\u001b[0m \u001b[0mrate\u001b[0m\u001b[0;34m=\u001b[0m\u001b[0;36m44000\u001b[0m\u001b[0;34m)\u001b[0m\u001b[0;34m\u001b[0m\u001b[0m\n\u001b[0m",
      "\u001b[0;31mNameError\u001b[0m: name 'sound' is not defined"
     ]
    }
   ],
   "source": [
    "ipd.Audio(sound, rate=44000)"
   ]
  },
  {
   "cell_type": "code",
   "execution_count": 20,
   "metadata": {},
   "outputs": [
    {
     "data": {
      "text/plain": [
       "'ly_test_-60.wav'"
      ]
     },
     "execution_count": 20,
     "metadata": {},
     "output_type": "execute_result"
    }
   ],
   "source": [
    "files[0]\n"
   ]
  },
  {
   "cell_type": "code",
   "execution_count": null,
   "metadata": {},
   "outputs": [],
   "source": []
  }
 ],
 "metadata": {
  "hide_code_all_hidden": false,
  "hide_input": true,
  "kernelspec": {
   "display_name": "Python 3",
   "language": "python",
   "name": "python3"
  },
  "language_info": {
   "codemirror_mode": {
    "name": "ipython",
    "version": 3
   },
   "file_extension": ".py",
   "mimetype": "text/x-python",
   "name": "python",
   "nbconvert_exporter": "python",
   "pygments_lexer": "ipython3",
   "version": "3.6.6"
  }
 },
 "nbformat": 4,
 "nbformat_minor": 2
}
